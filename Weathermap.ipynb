{
  "nbformat": 4,
  "nbformat_minor": 0,
  "metadata": {
    "colab": {
      "provenance": [],
      "authorship_tag": "ABX9TyMCD1t1dw181dcebra8Upmt",
      "include_colab_link": true
    },
    "kernelspec": {
      "name": "python3",
      "display_name": "Python 3"
    },
    "language_info": {
      "name": "python"
    }
  },
  "cells": [
    {
      "cell_type": "markdown",
      "metadata": {
        "id": "view-in-github",
        "colab_type": "text"
      },
      "source": [
        "<a href=\"https://colab.research.google.com/github/anerd2/DataEngActivities/blob/main/Weathermap.ipynb\" target=\"_parent\"><img src=\"https://colab.research.google.com/assets/colab-badge.svg\" alt=\"Open In Colab\"/></a>"
      ]
    },
    {
      "cell_type": "code",
      "execution_count": 18,
      "metadata": {
        "colab": {
          "base_uri": "https://localhost:8080/"
        },
        "id": "k5QGlgGS0dTw",
        "outputId": "9c228b49-f8ed-48bf-908b-5eee89d3f493"
      },
      "outputs": [
        {
          "output_type": "stream",
          "name": "stdout",
          "text": [
            " City Not Found \n"
          ]
        }
      ],
      "source": [
        "# import required modules\n",
        "import requests, json\n",
        " \n",
        "# Enter your API key here\n",
        "api_key = \"d2c98dfe3cc1d5d8c17cdcc1f71e2226\"\n",
        " \n",
        "# base_url variable to store url\n",
        "base_url = \"http://api.openweathermap.org/data/2.5/forcast?\"\n",
        " \n",
        "# Give city name\n",
        "#city_name = input(\"Enter city name : \")\n",
        " \n",
        "# complete_url variable to store\n",
        "# complete url address\n",
        "complete_url = \"zip=97603,us&appid=\" + api_key\n",
        "# \"id=\" + city_name + \"us&appid=\" + api_key\n",
        "# get method of requests module\n",
        "# return response object\n",
        "response = requests.get(complete_url)\n",
        " \n",
        "# json method of response object\n",
        "# convert json format data into\n",
        "# python format data\n",
        "x = response.json()\n",
        " \n",
        "# Now x contains list of nested dictionaries\n",
        "# Check the value of \"cod\" key is equal to\n",
        "# \"404\", means city is found otherwise,\n",
        "# city is not found\n",
        "if x[\"cod\"] != \"404\":\n",
        " \n",
        "    # store the value of \"main\"\n",
        "    # key in variable y\n",
        "    y = x[\"main\"]\n",
        " \n",
        "    # store the value corresponding\n",
        "    # to the \"temp\" key of y\n",
        "    current_temperature = y[\"temp\"]\n",
        " \n",
        "    # store the value corresponding\n",
        "    # to the \"pressure\" key of y\n",
        "    current_pressure = y[\"pressure\"]\n",
        " \n",
        "    # store the value corresponding\n",
        "    # to the \"humidity\" key of y\n",
        "    current_humidity = y[\"humidity\"]\n",
        " \n",
        "    # store the value of \"weather\"\n",
        "    # key in variable z\n",
        "    z = x[\"weather\"]\n",
        " \n",
        "    # store the value corresponding\n",
        "    # to the \"description\" key at\n",
        "    # the 0th index of z\n",
        "    x = z[\"main\"]\n",
        "    weather_description = z[0][\"description\"]    \n",
        " \n",
        "    # print following values\n",
        "    print(\" Temperature (in kelvin unit) = \" +\n",
        "                    str(current_temperature) +\n",
        "          \"\\n atmospheric pressure (in hPa unit) = \" +\n",
        "                    str(current_pressure) +\n",
        "          \"\\n humidity (in percentage) = \" +\n",
        "                    str(current_humidity) +\n",
        "          \"\\n description = \" +\n",
        "                    str(weather_description) +\n",
        "          \"\\n weather = \" +\n",
        "                    x)\n",
        " \n",
        "else:\n",
        "    print(\" City Not Found \")"
      ]
    }
  ]
}